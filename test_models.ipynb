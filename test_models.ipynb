{
 "cells": [
  {
   "cell_type": "markdown",
   "id": "d41cbd84",
   "metadata": {},
   "source": [
    "# Model Testing Notebook\n",
    "\n",
    "This notebook tests every model in the `model` folder, including initialization, forward and backward passes, grid generation, and parameter counting."
   ]
  },
  {
   "cell_type": "code",
   "execution_count": 1,
   "id": "0fa74a1b",
   "metadata": {},
   "outputs": [],
   "source": [
    "import torch\n",
    "import numpy as np\n",
    "import sys\n",
    "sys.path.append('./model')\n",
    "from model.custom_pfnn_kan import KoopmanAE_2d_kan\n",
    "from model.pfnn import KoopmanAE_2d_trans\n",
    "from model.pfnn_consist_2d import KoopmanAE_2d\n",
    "from model.restormer_arch import Restormer\n",
    "from model.koopman_base import dynamics, dynamics_back\n",
    "# utilities.py may contain helper functions, not a model class\n"
   ]
  },
  {
   "cell_type": "markdown",
   "id": "adc04b10",
   "metadata": {},
   "source": [
    "## Load and Initialize Models\n",
    "\n",
    "Instantiate each model with example parameters. If pre-trained weights are available, they can be loaded here."
   ]
  },
  {
   "cell_type": "code",
   "execution_count": 2,
   "id": "06bf6ac2",
   "metadata": {},
   "outputs": [],
   "source": [
    "# KoopmanAE_2d_kan example\n",
    "koopman_model = KoopmanAE_2d_kan(in_channel=1, out_channel=1, dim=4)\n",
    "\n",
    "# KoopmanAE_2d_trans example (was PFNN)\n",
    "pfnn_model = KoopmanAE_2d_trans(in_channel=1, out_channel=1, dim=4)\n",
    "\n",
    "# KoopmanAE_2d example (was PFNNConsist2D)\n",
    "pfnn_consist_model = KoopmanAE_2d(in_channel=1, out_channel=1, steps=1, steps_back=1)\n",
    "\n",
    "# Restormer example (parameters may need adjustment based on actual class definition)\n",
    "restormer_model = Restormer(inp_channels=1, out_channels=1, dim=4)\n"
   ]
  },
  {
   "cell_type": "markdown",
   "id": "463403b2",
   "metadata": {},
   "source": [
    "## Test Forward Dynamics\n",
    "\n",
    "Pass a sample input tensor through each model in 'forward' mode and print the output shapes."
   ]
  },
  {
   "cell_type": "code",
   "execution_count": 4,
   "id": "4dea49ef",
   "metadata": {},
   "outputs": [
    {
     "name": "stdout",
     "output_type": "stream",
     "text": [
      "KoopmanAE_2d_kan forward output: [torch.Size([2, 1, 64, 64])] Identity output: [torch.Size([2, 1, 64, 64])]\n",
      "PFNN forward output: [torch.Size([2, 1, 64, 64])] Identity output: [torch.Size([2, 1, 64, 64])]\n",
      "PFNNConsist2D forward output: [torch.Size([2, 1, 64, 64])] Identity output: [torch.Size([2, 1, 64, 64])]\n",
      "Restormer forward output: torch.Size([2, 1, 64, 64])\n",
      "PFNN forward output: [torch.Size([2, 1, 64, 64])] Identity output: [torch.Size([2, 1, 64, 64])]\n",
      "PFNNConsist2D forward output: [torch.Size([2, 1, 64, 64])] Identity output: [torch.Size([2, 1, 64, 64])]\n",
      "Restormer forward output: torch.Size([2, 1, 64, 64])\n"
     ]
    }
   ],
   "source": [
    "# Create a dummy input tensor (batch_size=2, channels=1, height=8, width=8)\n",
    "dummy_input = torch.randn(2, 1, 64, 64)\n",
    "\n",
    "# KoopmanAE_2d_kan forward\n",
    "koopman_out, koopman_out_id = koopman_model(dummy_input, mode='forward')\n",
    "print('KoopmanAE_2d_kan forward output:', [o.shape for o in koopman_out], 'Identity output:', [o.shape for o in koopman_out_id])\n",
    "\n",
    "# PFNN forward\n",
    "pfnn_out, pfnn_out_id = pfnn_model(dummy_input)\n",
    "print('PFNN forward output:', [o.shape for o in pfnn_out], 'Identity output:', [o.shape for o in pfnn_out_id])\n",
    "\n",
    "# PFNNConsist2D forward\n",
    "pfnn_consist_out, pfnn_consist_out_id = pfnn_consist_model(dummy_input)\n",
    "print('PFNNConsist2D forward output:', [o.shape for o in pfnn_consist_out], 'Identity output:', [o.shape for o in pfnn_consist_out_id])\n",
    "\n",
    "# Restormer forward\n",
    "restormer_out = restormer_model(dummy_input)\n",
    "print('Restormer forward output:', restormer_out.shape)\n"
   ]
  },
  {
   "cell_type": "markdown",
   "id": "fceb7e9b",
   "metadata": {},
   "source": [
    "## Test Backward Dynamics\n",
    "\n",
    "Pass a sample input tensor through KoopmanAE_2d_kan in 'backward' mode and print the output shapes."
   ]
  },
  {
   "cell_type": "code",
   "execution_count": 5,
   "id": "13123866",
   "metadata": {},
   "outputs": [
    {
     "name": "stdout",
     "output_type": "stream",
     "text": [
      "KoopmanAE_2d_kan backward output: [torch.Size([2, 1, 64, 64])] Identity output: [torch.Size([2, 1, 64, 64])]\n"
     ]
    }
   ],
   "source": [
    "koopman_back_out, koopman_back_out_id = koopman_model(dummy_input, mode='backward')\n",
    "print('KoopmanAE_2d_kan backward output:', [o.shape for o in koopman_back_out], 'Identity output:', [o.shape for o in koopman_back_out_id])"
   ]
  },
  {
   "cell_type": "markdown",
   "id": "17d6fc75",
   "metadata": {},
   "source": [
    "## Test Grid Generation\n",
    "\n",
    "Call the get_grid method with sample parameters and print the grid shape."
   ]
  },
  {
   "cell_type": "code",
   "execution_count": 6,
   "id": "0b3902fc",
   "metadata": {},
   "outputs": [
    {
     "name": "stdout",
     "output_type": "stream",
     "text": [
      "Generated grid shape: torch.Size([2, 2, 8, 8])\n"
     ]
    }
   ],
   "source": [
    "grid = koopman_model.get_grid(S=8, batchsize=2, device=dummy_input.device)\n",
    "print('Generated grid shape:', grid.shape)"
   ]
  },
  {
   "cell_type": "markdown",
   "id": "94ea296d",
   "metadata": {},
   "source": [
    "## Count Model Parameters\n",
    "\n",
    "Use the count_params method (if available) or sum up parameters for each model and print the total."
   ]
  },
  {
   "cell_type": "code",
   "execution_count": 7,
   "id": "ab1fd750",
   "metadata": {},
   "outputs": [
    {
     "name": "stdout",
     "output_type": "stream",
     "text": [
      "KoopmanAE_2d_kan parameters: 60873\n",
      "KoopmanAE_2d_trans parameters: 180912\n",
      "KoopmanAE_2d parameters: 740641\n",
      "Restormer parameters: 226000\n"
     ]
    }
   ],
   "source": [
    "def count_parameters(model):\n",
    "    return sum(p.numel() for p in model.parameters() if p.requires_grad)\n",
    "\n",
    "print('KoopmanAE_2d_kan parameters:', koopman_model.count_params() if hasattr(koopman_model, 'count_params') else count_parameters(koopman_model))\n",
    "print('KoopmanAE_2d_trans parameters:', count_parameters(pfnn_model))\n",
    "print('KoopmanAE_2d parameters:', count_parameters(pfnn_consist_model))\n",
    "print('Restormer parameters:', count_parameters(restormer_model))"
   ]
  }
 ],
 "metadata": {
  "kernelspec": {
   "display_name": "base",
   "language": "python",
   "name": "python3"
  },
  "language_info": {
   "codemirror_mode": {
    "name": "ipython",
    "version": 3
   },
   "file_extension": ".py",
   "mimetype": "text/x-python",
   "name": "python",
   "nbconvert_exporter": "python",
   "pygments_lexer": "ipython3",
   "version": "3.10.9"
  }
 },
 "nbformat": 4,
 "nbformat_minor": 5
}
